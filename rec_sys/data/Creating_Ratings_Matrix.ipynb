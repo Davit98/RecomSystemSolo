{
 "cells": [
  {
   "cell_type": "code",
   "execution_count": 1,
   "metadata": {},
   "outputs": [],
   "source": [
    "import numpy as np\n",
    "import pandas as pd\n",
    "import scipy.stats as st\n",
    "import os\n",
    "import matplotlib.pyplot as plt"
   ]
  },
  {
   "cell_type": "code",
   "execution_count": 2,
   "metadata": {},
   "outputs": [],
   "source": [
    "lesson_ids = pd.read_csv('all_lesson_items.csv')\n",
    "\n",
    "user_ids = pd.read_csv('sample_user_ids.csv')\n",
    "\n",
    "lesson_bookmarks = pd.read_csv('lesson_bookmarks.csv')\n",
    "lesson_comment_votes = pd.read_csv('lesson_comment_votes.csv')\n",
    "lesson_comments = pd.read_csv('lesson_comments.csv')\n",
    "lesson_impressions = pd.read_csv('lesson_impressions.csv')\n",
    "\n",
    "user_lesson_bookmarks = pd.read_csv('user_lesson_bookmarks.csv')\n",
    "user_lesson_comment_votes = pd.read_csv('user_lesson_comment_votes.csv')\n",
    "user_lesson_comments = pd.read_csv('user_lesson_comments.csv')\n",
    "user_lesson_impressions = pd.read_csv('user_lesson_impressions.csv')"
   ]
  },
  {
   "cell_type": "code",
   "execution_count": 3,
   "metadata": {},
   "outputs": [
    {
     "data": {
      "text/plain": [
       "(1319, 1)"
      ]
     },
     "execution_count": 3,
     "metadata": {},
     "output_type": "execute_result"
    }
   ],
   "source": [
    "lesson_ids.shape"
   ]
  },
  {
   "cell_type": "code",
   "execution_count": 4,
   "metadata": {},
   "outputs": [
    {
     "data": {
      "text/plain": [
       "(10024, 1)"
      ]
     },
     "execution_count": 4,
     "metadata": {},
     "output_type": "execute_result"
    }
   ],
   "source": [
    "user_ids.shape"
   ]
  },
  {
   "cell_type": "code",
   "execution_count": 5,
   "metadata": {},
   "outputs": [],
   "source": [
    "item_bookmarks = pd.concat([lesson_bookmarks,user_lesson_bookmarks])\n",
    "item_comment_votes = pd.concat([lesson_comment_votes,user_lesson_comment_votes])\n",
    "item_comments = pd.concat([lesson_comments,user_lesson_comments])\n",
    "item_impressions = pd.concat([lesson_impressions,user_lesson_impressions])"
   ]
  },
  {
   "cell_type": "code",
   "execution_count": 6,
   "metadata": {},
   "outputs": [],
   "source": [
    "df = pd.DataFrame(np.repeat(user_ids.values,len(lesson_ids),axis=0),columns=['UserId'])\n",
    "df2 = pd.concat([lesson_ids]*len(user_ids), ignore_index=True)"
   ]
  },
  {
   "cell_type": "code",
   "execution_count": 7,
   "metadata": {},
   "outputs": [
    {
     "data": {
      "text/html": [
       "<div>\n",
       "<style scoped>\n",
       "    .dataframe tbody tr th:only-of-type {\n",
       "        vertical-align: middle;\n",
       "    }\n",
       "\n",
       "    .dataframe tbody tr th {\n",
       "        vertical-align: top;\n",
       "    }\n",
       "\n",
       "    .dataframe thead th {\n",
       "        text-align: right;\n",
       "    }\n",
       "</style>\n",
       "<table border=\"1\" class=\"dataframe\">\n",
       "  <thead>\n",
       "    <tr style=\"text-align: right;\">\n",
       "      <th></th>\n",
       "      <th>UserId</th>\n",
       "      <th>LessonId</th>\n",
       "    </tr>\n",
       "  </thead>\n",
       "  <tbody>\n",
       "    <tr>\n",
       "      <th>0</th>\n",
       "      <td>2080</td>\n",
       "      <td>U322</td>\n",
       "    </tr>\n",
       "    <tr>\n",
       "      <th>1</th>\n",
       "      <td>2080</td>\n",
       "      <td>U634</td>\n",
       "    </tr>\n",
       "    <tr>\n",
       "      <th>2</th>\n",
       "      <td>2080</td>\n",
       "      <td>U642</td>\n",
       "    </tr>\n",
       "    <tr>\n",
       "      <th>3</th>\n",
       "      <td>2080</td>\n",
       "      <td>U643</td>\n",
       "    </tr>\n",
       "    <tr>\n",
       "      <th>4</th>\n",
       "      <td>2080</td>\n",
       "      <td>U649</td>\n",
       "    </tr>\n",
       "  </tbody>\n",
       "</table>\n",
       "</div>"
      ],
      "text/plain": [
       "   UserId LessonId\n",
       "0    2080     U322\n",
       "1    2080     U634\n",
       "2    2080     U642\n",
       "3    2080     U643\n",
       "4    2080     U649"
      ]
     },
     "execution_count": 7,
     "metadata": {},
     "output_type": "execute_result"
    }
   ],
   "source": [
    "df['LessonId'] = df2.ItemId\n",
    "df.head()"
   ]
  },
  {
   "cell_type": "code",
   "execution_count": 8,
   "metadata": {},
   "outputs": [],
   "source": [
    "df = pd.merge(df,item_bookmarks,on=['UserId','LessonId'],how='left')\n",
    "df = pd.merge(df,item_comment_votes,on=['UserId','LessonId'],how='left')\n",
    "df = pd.merge(df,item_comments,on=['UserId','LessonId'],how='left')\n",
    "df = pd.merge(df,item_impressions,on=['UserId','LessonId'],how='left')"
   ]
  },
  {
   "cell_type": "code",
   "execution_count": 9,
   "metadata": {},
   "outputs": [
    {
     "data": {
      "text/html": [
       "<div>\n",
       "<style scoped>\n",
       "    .dataframe tbody tr th:only-of-type {\n",
       "        vertical-align: middle;\n",
       "    }\n",
       "\n",
       "    .dataframe tbody tr th {\n",
       "        vertical-align: top;\n",
       "    }\n",
       "\n",
       "    .dataframe thead th {\n",
       "        text-align: right;\n",
       "    }\n",
       "</style>\n",
       "<table border=\"1\" class=\"dataframe\">\n",
       "  <thead>\n",
       "    <tr style=\"text-align: right;\">\n",
       "      <th></th>\n",
       "      <th>UserId</th>\n",
       "      <th>LessonId</th>\n",
       "      <th>Bookmark</th>\n",
       "      <th>Votes</th>\n",
       "      <th>Comments</th>\n",
       "      <th>Views</th>\n",
       "    </tr>\n",
       "  </thead>\n",
       "  <tbody>\n",
       "    <tr>\n",
       "      <th>4190432</th>\n",
       "      <td>8861666</td>\n",
       "      <td>L2930</td>\n",
       "      <td>NaN</td>\n",
       "      <td>NaN</td>\n",
       "      <td>NaN</td>\n",
       "      <td>NaN</td>\n",
       "    </tr>\n",
       "    <tr>\n",
       "      <th>10066775</th>\n",
       "      <td>11460795</td>\n",
       "      <td>U708</td>\n",
       "      <td>NaN</td>\n",
       "      <td>NaN</td>\n",
       "      <td>NaN</td>\n",
       "      <td>NaN</td>\n",
       "    </tr>\n",
       "    <tr>\n",
       "      <th>9804002</th>\n",
       "      <td>11340283</td>\n",
       "      <td>L2712</td>\n",
       "      <td>NaN</td>\n",
       "      <td>NaN</td>\n",
       "      <td>NaN</td>\n",
       "      <td>NaN</td>\n",
       "    </tr>\n",
       "    <tr>\n",
       "      <th>10530598</th>\n",
       "      <td>11678802</td>\n",
       "      <td>L2452</td>\n",
       "      <td>NaN</td>\n",
       "      <td>NaN</td>\n",
       "      <td>NaN</td>\n",
       "      <td>NaN</td>\n",
       "    </tr>\n",
       "    <tr>\n",
       "      <th>9086257</th>\n",
       "      <td>11011031</td>\n",
       "      <td>L2492</td>\n",
       "      <td>NaN</td>\n",
       "      <td>NaN</td>\n",
       "      <td>NaN</td>\n",
       "      <td>NaN</td>\n",
       "    </tr>\n",
       "    <tr>\n",
       "      <th>5048926</th>\n",
       "      <td>9237925</td>\n",
       "      <td>L2378</td>\n",
       "      <td>NaN</td>\n",
       "      <td>NaN</td>\n",
       "      <td>NaN</td>\n",
       "      <td>NaN</td>\n",
       "    </tr>\n",
       "    <tr>\n",
       "      <th>6178623</th>\n",
       "      <td>9731566</td>\n",
       "      <td>U4192</td>\n",
       "      <td>NaN</td>\n",
       "      <td>NaN</td>\n",
       "      <td>NaN</td>\n",
       "      <td>NaN</td>\n",
       "    </tr>\n",
       "    <tr>\n",
       "      <th>3507450</th>\n",
       "      <td>8195185</td>\n",
       "      <td>U1062</td>\n",
       "      <td>NaN</td>\n",
       "      <td>NaN</td>\n",
       "      <td>NaN</td>\n",
       "      <td>NaN</td>\n",
       "    </tr>\n",
       "    <tr>\n",
       "      <th>10441839</th>\n",
       "      <td>11637060</td>\n",
       "      <td>L2251</td>\n",
       "      <td>NaN</td>\n",
       "      <td>NaN</td>\n",
       "      <td>NaN</td>\n",
       "      <td>NaN</td>\n",
       "    </tr>\n",
       "    <tr>\n",
       "      <th>6443440</th>\n",
       "      <td>9849916</td>\n",
       "      <td>U7666</td>\n",
       "      <td>NaN</td>\n",
       "      <td>NaN</td>\n",
       "      <td>NaN</td>\n",
       "      <td>NaN</td>\n",
       "    </tr>\n",
       "  </tbody>\n",
       "</table>\n",
       "</div>"
      ],
      "text/plain": [
       "            UserId LessonId  Bookmark  Votes  Comments  Views\n",
       "4190432    8861666    L2930       NaN    NaN       NaN    NaN\n",
       "10066775  11460795     U708       NaN    NaN       NaN    NaN\n",
       "9804002   11340283    L2712       NaN    NaN       NaN    NaN\n",
       "10530598  11678802    L2452       NaN    NaN       NaN    NaN\n",
       "9086257   11011031    L2492       NaN    NaN       NaN    NaN\n",
       "5048926    9237925    L2378       NaN    NaN       NaN    NaN\n",
       "6178623    9731566    U4192       NaN    NaN       NaN    NaN\n",
       "3507450    8195185    U1062       NaN    NaN       NaN    NaN\n",
       "10441839  11637060    L2251       NaN    NaN       NaN    NaN\n",
       "6443440    9849916    U7666       NaN    NaN       NaN    NaN"
      ]
     },
     "execution_count": 9,
     "metadata": {},
     "output_type": "execute_result"
    }
   ],
   "source": [
    "df.sample(10)"
   ]
  },
  {
   "cell_type": "code",
   "execution_count": 10,
   "metadata": {},
   "outputs": [
    {
     "data": {
      "text/plain": [
       "(13221656, 6)"
      ]
     },
     "execution_count": 10,
     "metadata": {},
     "output_type": "execute_result"
    }
   ],
   "source": [
    "df.shape"
   ]
  },
  {
   "cell_type": "code",
   "execution_count": 11,
   "metadata": {},
   "outputs": [],
   "source": [
    "df.fillna(0,inplace=True)"
   ]
  },
  {
   "cell_type": "code",
   "execution_count": 12,
   "metadata": {},
   "outputs": [
    {
     "data": {
      "text/plain": [
       "{'U1010', 'U16839'}"
      ]
     },
     "execution_count": 12,
     "metadata": {},
     "output_type": "execute_result"
    }
   ],
   "source": [
    "# items watched by no one\n",
    "set(lesson_ids.ItemId.values)-set(df[df.Views!=0].LessonId)"
   ]
  },
  {
   "cell_type": "markdown",
   "metadata": {},
   "source": [
    "  "
   ]
  },
  {
   "cell_type": "code",
   "execution_count": 13,
   "metadata": {},
   "outputs": [],
   "source": [
    "columns = ['Views', 'Comments', 'Votes', 'Bookmark']\n",
    "\n",
    "percentiles = [50,75,80,90,95,99,99.5,99.9]\n",
    "\n",
    "thresholds = np.arange(1,11)"
   ]
  },
  {
   "cell_type": "code",
   "execution_count": 14,
   "metadata": {},
   "outputs": [
    {
     "name": "stdout",
     "output_type": "stream",
     "text": [
      "Total User-Views:\t 267805\n",
      "Total User-Comments:\t 809\n",
      "Total User-Votes:\t 4484\n",
      "Total User-Bookmark:\t 2912\n"
     ]
    }
   ],
   "source": [
    "non_zero_arrays = {}\n",
    "\n",
    "for column in columns:\n",
    "    non_zero_arrays[column] = df[df[column]>0][column].values\n",
    "\n",
    "for column in columns:\n",
    "    print(\"Total User-{}:\\t {}\".format(column, len(non_zero_arrays[column])))"
   ]
  },
  {
   "cell_type": "code",
   "execution_count": 15,
   "metadata": {},
   "outputs": [
    {
     "name": "stdout",
     "output_type": "stream",
     "text": [
      "Activity                       Percentile                     Threshold                     \n",
      "------------------------------------------------------------------------\n",
      "Views                          50                             1                             \n",
      "Views                          75                             2                             \n",
      "Views                          80                             2                             \n",
      "Views                          90                             3                             \n",
      "Views                          95                             4                             \n",
      "Views                          99                             7                             \n",
      "Views                          99.5                           9                             \n",
      "Views                          99.9                           14                            \n",
      "------------------------------------------------------------------------\n",
      "Comments                       50                             1                             \n",
      "Comments                       75                             1                             \n",
      "Comments                       80                             1                             \n",
      "Comments                       90                             2                             \n",
      "Comments                       95                             3                             \n",
      "Comments                       99                             4                             \n",
      "Comments                       99.5                           6                             \n",
      "Comments                       99.9                           7                             \n",
      "------------------------------------------------------------------------\n",
      "Votes                          50                             1                             \n",
      "Votes                          75                             2                             \n",
      "Votes                          80                             2                             \n",
      "Votes                          90                             4                             \n",
      "Votes                          95                             7                             \n",
      "Votes                          99                             18                            \n",
      "Votes                          99.5                           25                            \n",
      "Votes                          99.9                           42                            \n",
      "------------------------------------------------------------------------\n",
      "Bookmark                       50                             1                             \n",
      "Bookmark                       75                             1                             \n",
      "Bookmark                       80                             1                             \n",
      "Bookmark                       90                             1                             \n",
      "Bookmark                       95                             1                             \n",
      "Bookmark                       99                             1                             \n",
      "Bookmark                       99.5                           1                             \n",
      "Bookmark                       99.9                           1                             \n"
     ]
    }
   ],
   "source": [
    "print('{:<30} {:<30} {:<30}'.format('Activity', 'Percentile', 'Threshold'))\n",
    "for column in columns:\n",
    "    print('------------------------------------------------------------------------')\n",
    "    for percentile in percentiles:\n",
    "        print('{:<30} {:<30} {:<30.0f}'.format(column, percentile, np.percentile(non_zero_arrays[column],percentile)))\n",
    "        "
   ]
  },
  {
   "cell_type": "code",
   "execution_count": 16,
   "metadata": {
    "scrolled": false
   },
   "outputs": [
    {
     "name": "stdout",
     "output_type": "stream",
     "text": [
      "Activity                       Threshold                      Percentile                    \n",
      "------------------------------------------------------------------------\n",
      "Views                          1                              69.110                        \n",
      "Views                          2                              86.912                        \n",
      "Views                          3                              93.565                        \n",
      "Views                          4                              96.511                        \n",
      "Views                          5                              97.938                        \n",
      "Views                          6                              98.729                        \n",
      "Views                          7                              99.175                        \n",
      "Views                          8                              99.438                        \n",
      "Views                          9                              99.611                        \n",
      "Views                          10                             99.719                        \n",
      "Views                          11                             99.803                        \n",
      "Views                          12                             99.857                        \n",
      "Views                          13                             99.896                        \n",
      "Views                          14                             99.925                        \n",
      "Views                          15                             99.944                        \n",
      "Views                          16                             99.956                        \n",
      "Views                          17                             99.963                        \n",
      "Views                          18                             99.971                        \n",
      "Views                          19                             99.976                        \n",
      "Views                          20                             99.979                        \n",
      "------------------------------------------------------------------------\n",
      "Comments                       1                              81.335                        \n",
      "Comments                       2                              93.572                        \n",
      "Comments                       3                              97.775                        \n",
      "Comments                       4                              99.011                        \n",
      "Comments                       5                              99.382                        \n",
      "Comments                       6                              99.753                        \n",
      "Comments                       7                              100.000                       \n",
      "Comments                       8                              100.000                       \n",
      "Comments                       9                              100.000                       \n",
      "Comments                       10                             100.000                       \n",
      "Comments                       11                             100.000                       \n",
      "Comments                       12                             100.000                       \n",
      "Comments                       13                             100.000                       \n",
      "Comments                       14                             100.000                       \n",
      "Comments                       15                             100.000                       \n",
      "Comments                       16                             100.000                       \n",
      "Comments                       17                             100.000                       \n",
      "Comments                       18                             100.000                       \n",
      "Comments                       19                             100.000                       \n",
      "Comments                       20                             100.000                       \n",
      "------------------------------------------------------------------------\n",
      "Votes                          1                              63.671                        \n",
      "Votes                          2                              80.575                        \n",
      "Votes                          3                              87.021                        \n",
      "Votes                          4                              90.633                        \n",
      "Votes                          5                              93.087                        \n",
      "Votes                          6                              94.692                        \n",
      "Votes                          7                              95.517                        \n",
      "Votes                          8                              96.231                        \n",
      "Votes                          9                              96.789                        \n",
      "Votes                          10                             97.324                        \n",
      "Votes                          11                             97.636                        \n",
      "Votes                          12                             97.971                        \n",
      "Votes                          13                             98.060                        \n",
      "Votes                          14                             98.372                        \n",
      "Votes                          15                             98.595                        \n",
      "Votes                          16                             98.662                        \n",
      "Votes                          17                             98.885                        \n",
      "Votes                          18                             99.153                        \n",
      "Votes                          19                             99.197                        \n",
      "Votes                          20                             99.309                        \n",
      "------------------------------------------------------------------------\n",
      "Bookmark                       1                              100.000                       \n",
      "Bookmark                       2                              100.000                       \n",
      "Bookmark                       3                              100.000                       \n",
      "Bookmark                       4                              100.000                       \n",
      "Bookmark                       5                              100.000                       \n",
      "Bookmark                       6                              100.000                       \n",
      "Bookmark                       7                              100.000                       \n",
      "Bookmark                       8                              100.000                       \n",
      "Bookmark                       9                              100.000                       \n",
      "Bookmark                       10                             100.000                       \n",
      "Bookmark                       11                             100.000                       \n",
      "Bookmark                       12                             100.000                       \n",
      "Bookmark                       13                             100.000                       \n",
      "Bookmark                       14                             100.000                       \n",
      "Bookmark                       15                             100.000                       \n",
      "Bookmark                       16                             100.000                       \n",
      "Bookmark                       17                             100.000                       \n",
      "Bookmark                       18                             100.000                       \n",
      "Bookmark                       19                             100.000                       \n",
      "Bookmark                       20                             100.000                       \n"
     ]
    }
   ],
   "source": [
    "print('{:<30} {:<30} {:<30}'.format('Activity', 'Threshold', 'Percentile'))\n",
    "thres = {}\n",
    "for column in columns:\n",
    "    thres[column] = {}\n",
    "    print('------------------------------------------------------------------------')\n",
    "    for threshold in range(1,21):\n",
    "        thres[column][threshold] = np.around(st.percentileofscore(non_zero_arrays[column],threshold,'weak'),3)\n",
    "        print('{:<30} {:<30} {:<30.3f}'.format(column, threshold, thres[column][threshold]))"
   ]
  },
  {
   "cell_type": "code",
   "execution_count": 17,
   "metadata": {},
   "outputs": [],
   "source": [
    "def calc_rating(col_name):\n",
    "    return lambda x: 0 if x == 0 else (100 if x > len(thres[col_name]) else thres[col_name][x])"
   ]
  },
  {
   "cell_type": "code",
   "execution_count": 18,
   "metadata": {},
   "outputs": [],
   "source": [
    "df['Rating'] = (df.Views.apply(calc_rating('Views'))*0.2\n",
    "                + df.Comments.apply(calc_rating('Comments'))*0.4\n",
    "                + df.Votes.apply(calc_rating('Votes'))*0.1\n",
    "                + df.Bookmark.apply(calc_rating('Bookmark'))*0.3)/10"
   ]
  },
  {
   "cell_type": "code",
   "execution_count": 19,
   "metadata": {},
   "outputs": [
    {
     "data": {
      "text/plain": [
       "0.00000    12951745\n",
       "0.63671        1150\n",
       "0.80575         343\n",
       "0.87021         118\n",
       "0.90633          48\n",
       "0.93087          41\n",
       "0.94692          19\n",
       "0.95517           7\n",
       "0.96231          10\n",
       "0.96789           5\n",
       "0.97324           3\n",
       "0.97636           1\n",
       "0.97971           1\n",
       "0.98372           2\n",
       "0.99153           2\n",
       "1.00000           1\n",
       "1.38220      182941\n",
       "1.73824       46243\n",
       "1.87130       17002\n",
       "1.93022        7479\n",
       "1.95876        3536\n",
       "1.97458        1956\n",
       "1.98350        1099\n",
       "1.98876         621\n",
       "1.99222         422\n",
       "1.99438         252\n",
       "1.99606         204\n",
       "1.99714         131\n",
       "1.99792          91\n",
       "1.99850          69\n",
       "             ...   \n",
       "6.70431           1\n",
       "6.72922           1\n",
       "6.74176           1\n",
       "6.80063           1\n",
       "6.80609           2\n",
       "6.82287           1\n",
       "6.84187           1\n",
       "6.84947           1\n",
       "6.85855           1\n",
       "6.88603           1\n",
       "6.89066           1\n",
       "6.89733           1\n",
       "6.89891           1\n",
       "6.90988           1\n",
       "6.94644           1\n",
       "6.94739           1\n",
       "6.97112           1\n",
       "6.97884           1\n",
       "6.97888           1\n",
       "7.63560           1\n",
       "8.12470           2\n",
       "8.18362           2\n",
       "8.23690           1\n",
       "8.62835           1\n",
       "8.82033           1\n",
       "8.88725           1\n",
       "8.93083           1\n",
       "9.11355           1\n",
       "9.22582           1\n",
       "9.75554           1\n",
       "Name: Rating, Length: 421, dtype: int64"
      ]
     },
     "execution_count": 19,
     "metadata": {},
     "output_type": "execute_result"
    }
   ],
   "source": [
    "df.Rating.value_counts().sort_index(ascending = True)"
   ]
  },
  {
   "cell_type": "code",
   "execution_count": 20,
   "metadata": {},
   "outputs": [
    {
     "data": {
      "text/plain": [
       "(421, 13221656)"
      ]
     },
     "execution_count": 20,
     "metadata": {},
     "output_type": "execute_result"
    }
   ],
   "source": [
    "len(np.unique(df.Rating)), len(df.Rating)"
   ]
  },
  {
   "cell_type": "code",
   "execution_count": 21,
   "metadata": {},
   "outputs": [
    {
     "data": {
      "text/html": [
       "<div>\n",
       "<style scoped>\n",
       "    .dataframe tbody tr th:only-of-type {\n",
       "        vertical-align: middle;\n",
       "    }\n",
       "\n",
       "    .dataframe tbody tr th {\n",
       "        vertical-align: top;\n",
       "    }\n",
       "\n",
       "    .dataframe thead th {\n",
       "        text-align: right;\n",
       "    }\n",
       "</style>\n",
       "<table border=\"1\" class=\"dataframe\">\n",
       "  <thead>\n",
       "    <tr style=\"text-align: right;\">\n",
       "      <th></th>\n",
       "      <th>UserId</th>\n",
       "      <th>LessonId</th>\n",
       "      <th>Bookmark</th>\n",
       "      <th>Votes</th>\n",
       "      <th>Comments</th>\n",
       "      <th>Views</th>\n",
       "      <th>Rating</th>\n",
       "    </tr>\n",
       "  </thead>\n",
       "  <tbody>\n",
       "    <tr>\n",
       "      <th>647352</th>\n",
       "      <td>1891892</td>\n",
       "      <td>L2472</td>\n",
       "      <td>1.0</td>\n",
       "      <td>2.0</td>\n",
       "      <td>2.0</td>\n",
       "      <td>1.0</td>\n",
       "      <td>8.93083</td>\n",
       "    </tr>\n",
       "    <tr>\n",
       "      <th>730326</th>\n",
       "      <td>2146163</td>\n",
       "      <td>L2153</td>\n",
       "      <td>1.0</td>\n",
       "      <td>11.0</td>\n",
       "      <td>1.0</td>\n",
       "      <td>11.0</td>\n",
       "      <td>9.22582</td>\n",
       "    </tr>\n",
       "    <tr>\n",
       "      <th>888701</th>\n",
       "      <td>2628397</td>\n",
       "      <td>L2446</td>\n",
       "      <td>1.0</td>\n",
       "      <td>17.0</td>\n",
       "      <td>1.0</td>\n",
       "      <td>3.0</td>\n",
       "      <td>9.11355</td>\n",
       "    </tr>\n",
       "    <tr>\n",
       "      <th>1208598</th>\n",
       "      <td>3570926</td>\n",
       "      <td>U15173</td>\n",
       "      <td>1.0</td>\n",
       "      <td>0.0</td>\n",
       "      <td>1.0</td>\n",
       "      <td>4.0</td>\n",
       "      <td>8.18362</td>\n",
       "    </tr>\n",
       "    <tr>\n",
       "      <th>1254493</th>\n",
       "      <td>3696102</td>\n",
       "      <td>U7378</td>\n",
       "      <td>1.0</td>\n",
       "      <td>0.0</td>\n",
       "      <td>1.0</td>\n",
       "      <td>4.0</td>\n",
       "      <td>8.18362</td>\n",
       "    </tr>\n",
       "    <tr>\n",
       "      <th>1676701</th>\n",
       "      <td>4811660</td>\n",
       "      <td>U4537</td>\n",
       "      <td>1.0</td>\n",
       "      <td>1.0</td>\n",
       "      <td>1.0</td>\n",
       "      <td>12.0</td>\n",
       "      <td>8.88725</td>\n",
       "    </tr>\n",
       "    <tr>\n",
       "      <th>1688904</th>\n",
       "      <td>4839869</td>\n",
       "      <td>L1035</td>\n",
       "      <td>1.0</td>\n",
       "      <td>1.0</td>\n",
       "      <td>1.0</td>\n",
       "      <td>2.0</td>\n",
       "      <td>8.62835</td>\n",
       "    </tr>\n",
       "    <tr>\n",
       "      <th>2692531</th>\n",
       "      <td>6938762</td>\n",
       "      <td>U4631</td>\n",
       "      <td>1.0</td>\n",
       "      <td>1.0</td>\n",
       "      <td>1.0</td>\n",
       "      <td>4.0</td>\n",
       "      <td>8.82033</td>\n",
       "    </tr>\n",
       "    <tr>\n",
       "      <th>2906508</th>\n",
       "      <td>7308651</td>\n",
       "      <td>L1603</td>\n",
       "      <td>1.0</td>\n",
       "      <td>10.0</td>\n",
       "      <td>3.0</td>\n",
       "      <td>3.0</td>\n",
       "      <td>9.75554</td>\n",
       "    </tr>\n",
       "    <tr>\n",
       "      <th>3305129</th>\n",
       "      <td>7917906</td>\n",
       "      <td>L2465</td>\n",
       "      <td>1.0</td>\n",
       "      <td>0.0</td>\n",
       "      <td>1.0</td>\n",
       "      <td>3.0</td>\n",
       "      <td>8.12470</td>\n",
       "    </tr>\n",
       "    <tr>\n",
       "      <th>3499567</th>\n",
       "      <td>8184734</td>\n",
       "      <td>U4601</td>\n",
       "      <td>1.0</td>\n",
       "      <td>0.0</td>\n",
       "      <td>1.0</td>\n",
       "      <td>3.0</td>\n",
       "      <td>8.12470</td>\n",
       "    </tr>\n",
       "    <tr>\n",
       "      <th>6286818</th>\n",
       "      <td>9779507</td>\n",
       "      <td>U9885</td>\n",
       "      <td>1.0</td>\n",
       "      <td>0.0</td>\n",
       "      <td>1.0</td>\n",
       "      <td>7.0</td>\n",
       "      <td>8.23690</td>\n",
       "    </tr>\n",
       "  </tbody>\n",
       "</table>\n",
       "</div>"
      ],
      "text/plain": [
       "          UserId LessonId  Bookmark  Votes  Comments  Views   Rating\n",
       "647352   1891892    L2472       1.0    2.0       2.0    1.0  8.93083\n",
       "730326   2146163    L2153       1.0   11.0       1.0   11.0  9.22582\n",
       "888701   2628397    L2446       1.0   17.0       1.0    3.0  9.11355\n",
       "1208598  3570926   U15173       1.0    0.0       1.0    4.0  8.18362\n",
       "1254493  3696102    U7378       1.0    0.0       1.0    4.0  8.18362\n",
       "1676701  4811660    U4537       1.0    1.0       1.0   12.0  8.88725\n",
       "1688904  4839869    L1035       1.0    1.0       1.0    2.0  8.62835\n",
       "2692531  6938762    U4631       1.0    1.0       1.0    4.0  8.82033\n",
       "2906508  7308651    L1603       1.0   10.0       3.0    3.0  9.75554\n",
       "3305129  7917906    L2465       1.0    0.0       1.0    3.0  8.12470\n",
       "3499567  8184734    U4601       1.0    0.0       1.0    3.0  8.12470\n",
       "6286818  9779507    U9885       1.0    0.0       1.0    7.0  8.23690"
      ]
     },
     "execution_count": 21,
     "metadata": {},
     "output_type": "execute_result"
    }
   ],
   "source": [
    "df[df.Rating>8]"
   ]
  },
  {
   "cell_type": "code",
   "execution_count": 22,
   "metadata": {},
   "outputs": [],
   "source": [
    "final_df = df[['UserId','LessonId','Rating']].copy()"
   ]
  },
  {
   "cell_type": "code",
   "execution_count": 23,
   "metadata": {},
   "outputs": [],
   "source": [
    "# final_df[final_df.Rating>0].to_csv('rating_matrix.csv',index=False)"
   ]
  }
 ],
 "metadata": {
  "kernelspec": {
   "display_name": "Python 3",
   "language": "python",
   "name": "python3"
  },
  "language_info": {
   "codemirror_mode": {
    "name": "ipython",
    "version": 3
   },
   "file_extension": ".py",
   "mimetype": "text/x-python",
   "name": "python",
   "nbconvert_exporter": "python",
   "pygments_lexer": "ipython3",
   "version": "3.6.8"
  }
 },
 "nbformat": 4,
 "nbformat_minor": 2
}
